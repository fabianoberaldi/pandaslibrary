{
  "nbformat": 4,
  "nbformat_minor": 0,
  "metadata": {
    "colab": {
      "name": "String_Operations.ipynb",
      "version": "0.3.2",
      "provenance": []
    },
    "kernelspec": {
      "name": "python3",
      "display_name": "Python 3",
      "language": "python"
    },
    "language_info": {
      "mimetype": "text/x-python",
      "nbconvert_exporter": "python",
      "name": "python",
      "pygments_lexer": "ipython3",
      "version": "3.5.4",
      "file_extension": ".py",
      "codemirror_mode": {
        "version": 3,
        "name": "ipython"
      }
    }
  },
  "cells": [
    {
      "cell_type": "markdown",
      "metadata": {
        "id": "PRKarvskrmNE",
        "colab_type": "text"
      },
      "source": [
        "# String Operations"
      ]
    },
    {
      "cell_type": "code",
      "metadata": {
        "id": "2LpgejAorbqY",
        "colab_type": "code",
        "outputId": "2a7643ab-c6e4-499e-c768-c540856a002f",
        "trusted": true,
        "colab": {
          "base_uri": "https://localhost:8080/",
          "height": 34
        }
      },
      "source": [
        "hello = 'Hello world'\n",
        "hello"
      ],
      "execution_count": 0,
      "outputs": [
        {
          "output_type": "execute_result",
          "data": {
            "text/plain": [
              "'Hello world'"
            ]
          },
          "metadata": {
            "tags": []
          },
          "execution_count": 1
        }
      ]
    },
    {
      "cell_type": "code",
      "metadata": {
        "id": "8l0lMTffrrxs",
        "colab_type": "code",
        "outputId": "f86111dd-8b43-4996-cf00-6360fc8f3e4d",
        "trusted": true,
        "colab": {
          "base_uri": "https://localhost:8080/",
          "height": 34
        }
      },
      "source": [
        "type(hello)"
      ],
      "execution_count": 0,
      "outputs": [
        {
          "output_type": "execute_result",
          "data": {
            "text/plain": [
              "str"
            ]
          },
          "metadata": {
            "tags": []
          },
          "execution_count": 2
        }
      ]
    },
    {
      "cell_type": "code",
      "metadata": {
        "id": "YLkwYG96r8jJ",
        "colab_type": "code",
        "outputId": "092104b9-d575-454b-9ce9-83058e07579a",
        "trusted": true,
        "colab": {
          "base_uri": "https://localhost:8080/",
          "height": 34
        }
      },
      "source": [
        "#lenght\n",
        "len(hello)"
      ],
      "execution_count": 0,
      "outputs": [
        {
          "output_type": "execute_result",
          "data": {
            "text/plain": [
              "11"
            ]
          },
          "metadata": {
            "tags": []
          },
          "execution_count": 3
        }
      ]
    },
    {
      "cell_type": "code",
      "metadata": {
        "id": "crJowWeTsB1C",
        "colab_type": "code",
        "outputId": "01169935-350c-4808-b27c-ad4903f319e2",
        "trusted": true,
        "colab": {
          "base_uri": "https://localhost:8080/",
          "height": 34
        }
      },
      "source": [
        "# to lower case\n",
        "hello.lower()"
      ],
      "execution_count": 0,
      "outputs": [
        {
          "output_type": "execute_result",
          "data": {
            "text/plain": [
              "'hello world'"
            ]
          },
          "metadata": {
            "tags": []
          },
          "execution_count": 4
        }
      ]
    },
    {
      "cell_type": "code",
      "metadata": {
        "id": "BA8gG7LMsJiH",
        "colab_type": "code",
        "outputId": "2e96aebc-c3d8-42b1-ba7c-5b5d48f1657c",
        "trusted": true,
        "colab": {
          "base_uri": "https://localhost:8080/",
          "height": 34
        }
      },
      "source": [
        "# to upper case\n",
        "hello.upper()"
      ],
      "execution_count": 0,
      "outputs": [
        {
          "output_type": "execute_result",
          "data": {
            "text/plain": [
              "'HELLO WORLD'"
            ]
          },
          "metadata": {
            "tags": []
          },
          "execution_count": 5
        }
      ]
    },
    {
      "cell_type": "code",
      "metadata": {
        "id": "UjR2uEuVsOXe",
        "colab_type": "code",
        "outputId": "7c19b927-af48-4a3d-df28-35f83d3af17d",
        "trusted": true,
        "colab": {
          "base_uri": "https://localhost:8080/",
          "height": 34
        }
      },
      "source": [
        "# titlecase: the first character of each word is transformed to upper case\n",
        "hello.title()"
      ],
      "execution_count": 0,
      "outputs": [
        {
          "output_type": "execute_result",
          "data": {
            "text/plain": [
              "'Hello World'"
            ]
          },
          "metadata": {
            "tags": []
          },
          "execution_count": 6
        }
      ]
    },
    {
      "cell_type": "code",
      "metadata": {
        "id": "-Ebgoy2jsVuu",
        "colab_type": "code",
        "outputId": "91e2de42-9ee3-4055-f240-95dd2d7a517b",
        "trusted": true,
        "colab": {
          "base_uri": "https://localhost:8080/",
          "height": 34
        }
      },
      "source": [
        "#split the string object\n",
        "hello.split(' ')"
      ],
      "execution_count": 0,
      "outputs": [
        {
          "output_type": "execute_result",
          "data": {
            "text/plain": [
              "['Hello', 'world']"
            ]
          },
          "metadata": {
            "tags": []
          },
          "execution_count": 7
        }
      ]
    },
    {
      "cell_type": "markdown",
      "metadata": {
        "id": "uZjnwAIsuO14",
        "colab_type": "text"
      },
      "source": [
        "## String operations in Pandas"
      ]
    },
    {
      "cell_type": "code",
      "metadata": {
        "id": "YgWUNZI-sqDB",
        "colab_type": "code",
        "trusted": true,
        "colab": {}
      },
      "source": [
        "import pandas as pd"
      ],
      "execution_count": 0,
      "outputs": []
    },
    {
      "cell_type": "code",
      "metadata": {
        "id": "oz6oxg_nufGI",
        "colab_type": "code",
        "trusted": true,
        "colab": {},
        "outputId": "106d9f23-6936-4556-b336-57a8926fd086"
      },
      "source": [
        "df = pd.read_csv('titanic.csv',sep='\\t')\n",
        "df[['Name','Sex','Age']].head()"
      ],
      "execution_count": 0,
      "outputs": [
        {
          "output_type": "execute_result",
          "data": {
            "text/html": [
              "<div>\n",
              "<table border=\"1\" class=\"dataframe\">\n",
              "  <thead>\n",
              "    <tr style=\"text-align: right;\">\n",
              "      <th></th>\n",
              "      <th>Name</th>\n",
              "      <th>Sex</th>\n",
              "      <th>Age</th>\n",
              "    </tr>\n",
              "  </thead>\n",
              "  <tbody>\n",
              "    <tr>\n",
              "      <th>0</th>\n",
              "      <td>Braund, Mr. Owen Harris</td>\n",
              "      <td>male</td>\n",
              "      <td>22.0</td>\n",
              "    </tr>\n",
              "    <tr>\n",
              "      <th>1</th>\n",
              "      <td>Cumings, Mrs. John Bradley (Florence Briggs Th...</td>\n",
              "      <td>female</td>\n",
              "      <td>38.0</td>\n",
              "    </tr>\n",
              "    <tr>\n",
              "      <th>2</th>\n",
              "      <td>Heikkinen, Miss. Laina</td>\n",
              "      <td>female</td>\n",
              "      <td>26.0</td>\n",
              "    </tr>\n",
              "    <tr>\n",
              "      <th>3</th>\n",
              "      <td>Futrelle, Mrs. Jacques Heath (Lily May Peel)</td>\n",
              "      <td>female</td>\n",
              "      <td>35.0</td>\n",
              "    </tr>\n",
              "    <tr>\n",
              "      <th>4</th>\n",
              "      <td>Allen, Mr. William Henry</td>\n",
              "      <td>male</td>\n",
              "      <td>35.0</td>\n",
              "    </tr>\n",
              "  </tbody>\n",
              "</table>\n",
              "</div>"
            ],
            "text/plain": [
              "                                                Name     Sex   Age\n",
              "0                            Braund, Mr. Owen Harris    male  22.0\n",
              "1  Cumings, Mrs. John Bradley (Florence Briggs Th...  female  38.0\n",
              "2                             Heikkinen, Miss. Laina  female  26.0\n",
              "3       Futrelle, Mrs. Jacques Heath (Lily May Peel)  female  35.0\n",
              "4                           Allen, Mr. William Henry    male  35.0"
            ]
          },
          "metadata": {
            "tags": []
          },
          "execution_count": 9
        }
      ]
    },
    {
      "cell_type": "code",
      "metadata": {
        "trusted": true,
        "id": "lQ-26Ly1AUpW",
        "colab_type": "code",
        "colab": {}
      },
      "source": [
        "#get the first 10 names and store into variable 'names'\n",
        "names = df.loc[:9,'Name'].copy()"
      ],
      "execution_count": 0,
      "outputs": []
    },
    {
      "cell_type": "code",
      "metadata": {
        "trusted": true,
        "id": "NC2WhQTBAUps",
        "colab_type": "code",
        "colab": {},
        "outputId": "78a4eee0-58a5-4708-89ef-47b39dc8c977"
      },
      "source": [
        "names"
      ],
      "execution_count": 0,
      "outputs": [
        {
          "output_type": "execute_result",
          "data": {
            "text/plain": [
              "0                              Braund, Mr. Owen Harris\n",
              "1    Cumings, Mrs. John Bradley (Florence Briggs Th...\n",
              "2                               Heikkinen, Miss. Laina\n",
              "3         Futrelle, Mrs. Jacques Heath (Lily May Peel)\n",
              "4                             Allen, Mr. William Henry\n",
              "5                                     Moran, Mr. James\n",
              "6                              McCarthy, Mr. Timothy J\n",
              "7                       Palsson, Master. Gosta Leonard\n",
              "8    Johnson, Mrs. Oscar W (Elisabeth Vilhelmina Berg)\n",
              "9                  Nasser, Mrs. Nicholas (Adele Achem)\n",
              "Name: Name, dtype: object"
            ]
          },
          "metadata": {
            "tags": []
          },
          "execution_count": 11
        }
      ]
    },
    {
      "cell_type": "code",
      "metadata": {
        "trusted": true,
        "id": "UcKlNuq0AUp-",
        "colab_type": "code",
        "colab": {},
        "outputId": "9e3744a3-c740-41b0-c3b4-0a79114727cf"
      },
      "source": [
        "#check the type of the first object of our serie: str (string)\n",
        "type(names[0])"
      ],
      "execution_count": 0,
      "outputs": [
        {
          "output_type": "execute_result",
          "data": {
            "text/plain": [
              "str"
            ]
          },
          "metadata": {
            "tags": []
          },
          "execution_count": 12
        }
      ]
    },
    {
      "cell_type": "code",
      "metadata": {
        "trusted": true,
        "id": "D7XKd66LAUqO",
        "colab_type": "code",
        "colab": {},
        "outputId": "2052ed9f-cdd5-4869-b2a2-8b6f5c0b60c2"
      },
      "source": [
        "#transform each name to lower case\n",
        "names.str.lower()"
      ],
      "execution_count": 0,
      "outputs": [
        {
          "output_type": "execute_result",
          "data": {
            "text/plain": [
              "0                              braund, mr. owen harris\n",
              "1    cumings, mrs. john bradley (florence briggs th...\n",
              "2                               heikkinen, miss. laina\n",
              "3         futrelle, mrs. jacques heath (lily may peel)\n",
              "4                             allen, mr. william henry\n",
              "5                                     moran, mr. james\n",
              "6                              mccarthy, mr. timothy j\n",
              "7                       palsson, master. gosta leonard\n",
              "8    johnson, mrs. oscar w (elisabeth vilhelmina berg)\n",
              "9                  nasser, mrs. nicholas (adele achem)\n",
              "Name: Name, dtype: object"
            ]
          },
          "metadata": {
            "tags": []
          },
          "execution_count": 13
        }
      ]
    },
    {
      "cell_type": "code",
      "metadata": {
        "trusted": true,
        "id": "5GmireFGAUqe",
        "colab_type": "code",
        "colab": {},
        "outputId": "77ee6fe8-1630-49ca-8bcb-5432b51b330a"
      },
      "source": [
        "#each element to upper case\n",
        "names.str.upper()"
      ],
      "execution_count": 0,
      "outputs": [
        {
          "output_type": "execute_result",
          "data": {
            "text/plain": [
              "0                              BRAUND, MR. OWEN HARRIS\n",
              "1    CUMINGS, MRS. JOHN BRADLEY (FLORENCE BRIGGS TH...\n",
              "2                               HEIKKINEN, MISS. LAINA\n",
              "3         FUTRELLE, MRS. JACQUES HEATH (LILY MAY PEEL)\n",
              "4                             ALLEN, MR. WILLIAM HENRY\n",
              "5                                     MORAN, MR. JAMES\n",
              "6                              MCCARTHY, MR. TIMOTHY J\n",
              "7                       PALSSON, MASTER. GOSTA LEONARD\n",
              "8    JOHNSON, MRS. OSCAR W (ELISABETH VILHELMINA BERG)\n",
              "9                  NASSER, MRS. NICHOLAS (ADELE ACHEM)\n",
              "Name: Name, dtype: object"
            ]
          },
          "metadata": {
            "tags": []
          },
          "execution_count": 14
        }
      ]
    },
    {
      "cell_type": "code",
      "metadata": {
        "trusted": true,
        "id": "vNZazCl8AUqy",
        "colab_type": "code",
        "colab": {},
        "outputId": "113444b0-3641-42ac-eccc-668704be74a6"
      },
      "source": [
        "#split each element\n",
        "names.str.split(',')"
      ],
      "execution_count": 0,
      "outputs": [
        {
          "output_type": "execute_result",
          "data": {
            "text/plain": [
              "0                           [Braund,  Mr. Owen Harris]\n",
              "1    [Cumings,  Mrs. John Bradley (Florence Briggs ...\n",
              "2                            [Heikkinen,  Miss. Laina]\n",
              "3      [Futrelle,  Mrs. Jacques Heath (Lily May Peel)]\n",
              "4                          [Allen,  Mr. William Henry]\n",
              "5                                  [Moran,  Mr. James]\n",
              "6                           [McCarthy,  Mr. Timothy J]\n",
              "7                    [Palsson,  Master. Gosta Leonard]\n",
              "8    [Johnson,  Mrs. Oscar W (Elisabeth Vilhelmina ...\n",
              "9               [Nasser,  Mrs. Nicholas (Adele Achem)]\n",
              "Name: Name, dtype: object"
            ]
          },
          "metadata": {
            "tags": []
          },
          "execution_count": 15
        }
      ]
    },
    {
      "cell_type": "code",
      "metadata": {
        "trusted": true,
        "id": "K8cRiKdzAUrG",
        "colab_type": "code",
        "colab": {},
        "outputId": "672abf1f-c15d-4348-a3a3-d0666815c453"
      },
      "source": [
        "#getting each name as FirstName + LastName\n",
        "names_ordered = []\n",
        "for name in names:\n",
        "    name_split = name.split(',')\n",
        "    name_ordered = '{0} {1}'.format(name_split[1],name_split[0])\n",
        "    names_ordered.append(name_ordered)\n",
        "names_ordered"
      ],
      "execution_count": 0,
      "outputs": [
        {
          "output_type": "execute_result",
          "data": {
            "text/plain": [
              "[' Mr. Owen Harris Braund',\n",
              " ' Mrs. John Bradley (Florence Briggs Thayer) Cumings',\n",
              " ' Miss. Laina Heikkinen',\n",
              " ' Mrs. Jacques Heath (Lily May Peel) Futrelle',\n",
              " ' Mr. William Henry Allen',\n",
              " ' Mr. James Moran',\n",
              " ' Mr. Timothy J McCarthy',\n",
              " ' Master. Gosta Leonard Palsson',\n",
              " ' Mrs. Oscar W (Elisabeth Vilhelmina Berg) Johnson',\n",
              " ' Mrs. Nicholas (Adele Achem) Nasser']"
            ]
          },
          "metadata": {
            "tags": []
          },
          "execution_count": 16
        }
      ]
    },
    {
      "cell_type": "code",
      "metadata": {
        "trusted": true,
        "id": "kI3O6pKVAUra",
        "colab_type": "code",
        "colab": {},
        "outputId": "9f61fa87-64cb-493b-bcd8-494a5fca704e"
      },
      "source": [
        "names_split = names.str.split(',')\n",
        "names_ordered = names_split.str[1]+' '+names_split.str[0]\n",
        "names_ordered.to_frame().sort_values('Name')"
      ],
      "execution_count": 0,
      "outputs": [
        {
          "output_type": "execute_result",
          "data": {
            "text/html": [
              "<div>\n",
              "<table border=\"1\" class=\"dataframe\">\n",
              "  <thead>\n",
              "    <tr style=\"text-align: right;\">\n",
              "      <th></th>\n",
              "      <th>Name</th>\n",
              "    </tr>\n",
              "  </thead>\n",
              "  <tbody>\n",
              "    <tr>\n",
              "      <th>7</th>\n",
              "      <td>Master. Gosta Leonard Palsson</td>\n",
              "    </tr>\n",
              "    <tr>\n",
              "      <th>2</th>\n",
              "      <td>Miss. Laina Heikkinen</td>\n",
              "    </tr>\n",
              "    <tr>\n",
              "      <th>5</th>\n",
              "      <td>Mr. James Moran</td>\n",
              "    </tr>\n",
              "    <tr>\n",
              "      <th>0</th>\n",
              "      <td>Mr. Owen Harris Braund</td>\n",
              "    </tr>\n",
              "    <tr>\n",
              "      <th>6</th>\n",
              "      <td>Mr. Timothy J McCarthy</td>\n",
              "    </tr>\n",
              "    <tr>\n",
              "      <th>4</th>\n",
              "      <td>Mr. William Henry Allen</td>\n",
              "    </tr>\n",
              "    <tr>\n",
              "      <th>3</th>\n",
              "      <td>Mrs. Jacques Heath (Lily May Peel) Futrelle</td>\n",
              "    </tr>\n",
              "    <tr>\n",
              "      <th>1</th>\n",
              "      <td>Mrs. John Bradley (Florence Briggs Thayer) Cu...</td>\n",
              "    </tr>\n",
              "    <tr>\n",
              "      <th>9</th>\n",
              "      <td>Mrs. Nicholas (Adele Achem) Nasser</td>\n",
              "    </tr>\n",
              "    <tr>\n",
              "      <th>8</th>\n",
              "      <td>Mrs. Oscar W (Elisabeth Vilhelmina Berg) Johnson</td>\n",
              "    </tr>\n",
              "  </tbody>\n",
              "</table>\n",
              "</div>"
            ],
            "text/plain": [
              "                                                Name\n",
              "7                      Master. Gosta Leonard Palsson\n",
              "2                              Miss. Laina Heikkinen\n",
              "5                                    Mr. James Moran\n",
              "0                             Mr. Owen Harris Braund\n",
              "6                             Mr. Timothy J McCarthy\n",
              "4                            Mr. William Henry Allen\n",
              "3        Mrs. Jacques Heath (Lily May Peel) Futrelle\n",
              "1   Mrs. John Bradley (Florence Briggs Thayer) Cu...\n",
              "9                 Mrs. Nicholas (Adele Achem) Nasser\n",
              "8   Mrs. Oscar W (Elisabeth Vilhelmina Berg) Johnson"
            ]
          },
          "metadata": {
            "tags": []
          },
          "execution_count": 17
        }
      ]
    },
    {
      "cell_type": "code",
      "metadata": {
        "trusted": true,
        "id": "AGI9DcO6AUrq",
        "colab_type": "code",
        "colab": {},
        "outputId": "93c4006a-082c-4a2f-ca2b-0a819eed615c"
      },
      "source": [
        "#filtering names that contains the word 'Miss'\n",
        "contains_miss = df['Name'].str.contains('Miss')\n",
        "contains_miss.head()"
      ],
      "execution_count": 0,
      "outputs": [
        {
          "output_type": "execute_result",
          "data": {
            "text/plain": [
              "0    False\n",
              "1    False\n",
              "2     True\n",
              "3    False\n",
              "4    False\n",
              "Name: Name, dtype: bool"
            ]
          },
          "metadata": {
            "tags": []
          },
          "execution_count": 18
        }
      ]
    },
    {
      "cell_type": "code",
      "metadata": {
        "trusted": true,
        "id": "ro52ZOUYAUr5",
        "colab_type": "code",
        "colab": {},
        "outputId": "f2217f4b-4203-47e9-b5b7-4db9875eb156"
      },
      "source": [
        "#filtering dataframe\n",
        "df.loc[contains_miss][['Name','Sex','Age']]"
      ],
      "execution_count": 0,
      "outputs": [
        {
          "output_type": "execute_result",
          "data": {
            "text/html": [
              "<div>\n",
              "<table border=\"1\" class=\"dataframe\">\n",
              "  <thead>\n",
              "    <tr style=\"text-align: right;\">\n",
              "      <th></th>\n",
              "      <th>Name</th>\n",
              "      <th>Sex</th>\n",
              "      <th>Age</th>\n",
              "    </tr>\n",
              "  </thead>\n",
              "  <tbody>\n",
              "    <tr>\n",
              "      <th>2</th>\n",
              "      <td>Heikkinen, Miss. Laina</td>\n",
              "      <td>female</td>\n",
              "      <td>26.0</td>\n",
              "    </tr>\n",
              "    <tr>\n",
              "      <th>10</th>\n",
              "      <td>Sandstrom, Miss. Marguerite Rut</td>\n",
              "      <td>female</td>\n",
              "      <td>4.0</td>\n",
              "    </tr>\n",
              "    <tr>\n",
              "      <th>11</th>\n",
              "      <td>Bonnell, Miss. Elizabeth</td>\n",
              "      <td>female</td>\n",
              "      <td>58.0</td>\n",
              "    </tr>\n",
              "    <tr>\n",
              "      <th>14</th>\n",
              "      <td>Vestrom, Miss. Hulda Amanda Adolfina</td>\n",
              "      <td>female</td>\n",
              "      <td>14.0</td>\n",
              "    </tr>\n",
              "    <tr>\n",
              "      <th>22</th>\n",
              "      <td>McGowan, Miss. Anna \"Annie\"</td>\n",
              "      <td>female</td>\n",
              "      <td>15.0</td>\n",
              "    </tr>\n",
              "    <tr>\n",
              "      <th>24</th>\n",
              "      <td>Palsson, Miss. Torborg Danira</td>\n",
              "      <td>female</td>\n",
              "      <td>8.0</td>\n",
              "    </tr>\n",
              "    <tr>\n",
              "      <th>28</th>\n",
              "      <td>O'Dwyer, Miss. Ellen \"Nellie\"</td>\n",
              "      <td>female</td>\n",
              "      <td>NaN</td>\n",
              "    </tr>\n",
              "    <tr>\n",
              "      <th>32</th>\n",
              "      <td>Glynn, Miss. Mary Agatha</td>\n",
              "      <td>female</td>\n",
              "      <td>NaN</td>\n",
              "    </tr>\n",
              "    <tr>\n",
              "      <th>38</th>\n",
              "      <td>Vander Planke, Miss. Augusta Maria</td>\n",
              "      <td>female</td>\n",
              "      <td>18.0</td>\n",
              "    </tr>\n",
              "    <tr>\n",
              "      <th>39</th>\n",
              "      <td>Nicola-Yarred, Miss. Jamila</td>\n",
              "      <td>female</td>\n",
              "      <td>14.0</td>\n",
              "    </tr>\n",
              "    <tr>\n",
              "      <th>43</th>\n",
              "      <td>Laroche, Miss. Simonne Marie Anne Andree</td>\n",
              "      <td>female</td>\n",
              "      <td>3.0</td>\n",
              "    </tr>\n",
              "    <tr>\n",
              "      <th>44</th>\n",
              "      <td>Devaney, Miss. Margaret Delia</td>\n",
              "      <td>female</td>\n",
              "      <td>19.0</td>\n",
              "    </tr>\n",
              "    <tr>\n",
              "      <th>47</th>\n",
              "      <td>O'Driscoll, Miss. Bridget</td>\n",
              "      <td>female</td>\n",
              "      <td>NaN</td>\n",
              "    </tr>\n",
              "    <tr>\n",
              "      <th>56</th>\n",
              "      <td>Rugg, Miss. Emily</td>\n",
              "      <td>female</td>\n",
              "      <td>21.0</td>\n",
              "    </tr>\n",
              "    <tr>\n",
              "      <th>58</th>\n",
              "      <td>West, Miss. Constance Mirium</td>\n",
              "      <td>female</td>\n",
              "      <td>5.0</td>\n",
              "    </tr>\n",
              "    <tr>\n",
              "      <th>61</th>\n",
              "      <td>Icard, Miss. Amelie</td>\n",
              "      <td>female</td>\n",
              "      <td>38.0</td>\n",
              "    </tr>\n",
              "    <tr>\n",
              "      <th>68</th>\n",
              "      <td>Andersson, Miss. Erna Alexandra</td>\n",
              "      <td>female</td>\n",
              "      <td>17.0</td>\n",
              "    </tr>\n",
              "    <tr>\n",
              "      <th>71</th>\n",
              "      <td>Goodwin, Miss. Lillian Amy</td>\n",
              "      <td>female</td>\n",
              "      <td>16.0</td>\n",
              "    </tr>\n",
              "    <tr>\n",
              "      <th>79</th>\n",
              "      <td>Dowdell, Miss. Elizabeth</td>\n",
              "      <td>female</td>\n",
              "      <td>30.0</td>\n",
              "    </tr>\n",
              "    <tr>\n",
              "      <th>82</th>\n",
              "      <td>McDermott, Miss. Brigdet Delia</td>\n",
              "      <td>female</td>\n",
              "      <td>NaN</td>\n",
              "    </tr>\n",
              "    <tr>\n",
              "      <th>84</th>\n",
              "      <td>Ilett, Miss. Bertha</td>\n",
              "      <td>female</td>\n",
              "      <td>17.0</td>\n",
              "    </tr>\n",
              "    <tr>\n",
              "      <th>88</th>\n",
              "      <td>Fortune, Miss. Mabel Helen</td>\n",
              "      <td>female</td>\n",
              "      <td>23.0</td>\n",
              "    </tr>\n",
              "    <tr>\n",
              "      <th>100</th>\n",
              "      <td>Petranec, Miss. Matilda</td>\n",
              "      <td>female</td>\n",
              "      <td>28.0</td>\n",
              "    </tr>\n",
              "    <tr>\n",
              "      <th>106</th>\n",
              "      <td>Salkjelsvik, Miss. Anna Kristine</td>\n",
              "      <td>female</td>\n",
              "      <td>21.0</td>\n",
              "    </tr>\n",
              "    <tr>\n",
              "      <th>109</th>\n",
              "      <td>Moran, Miss. Bertha</td>\n",
              "      <td>female</td>\n",
              "      <td>NaN</td>\n",
              "    </tr>\n",
              "    <tr>\n",
              "      <th>111</th>\n",
              "      <td>Zabour, Miss. Hileni</td>\n",
              "      <td>female</td>\n",
              "      <td>14.5</td>\n",
              "    </tr>\n",
              "    <tr>\n",
              "      <th>113</th>\n",
              "      <td>Jussila, Miss. Katriina</td>\n",
              "      <td>female</td>\n",
              "      <td>20.0</td>\n",
              "    </tr>\n",
              "    <tr>\n",
              "      <th>114</th>\n",
              "      <td>Attalah, Miss. Malake</td>\n",
              "      <td>female</td>\n",
              "      <td>17.0</td>\n",
              "    </tr>\n",
              "    <tr>\n",
              "      <th>119</th>\n",
              "      <td>Andersson, Miss. Ellis Anna Maria</td>\n",
              "      <td>female</td>\n",
              "      <td>2.0</td>\n",
              "    </tr>\n",
              "    <tr>\n",
              "      <th>123</th>\n",
              "      <td>Webber, Miss. Susan</td>\n",
              "      <td>female</td>\n",
              "      <td>32.5</td>\n",
              "    </tr>\n",
              "    <tr>\n",
              "      <th>128</th>\n",
              "      <td>Peter, Miss. Anna</td>\n",
              "      <td>female</td>\n",
              "      <td>NaN</td>\n",
              "    </tr>\n",
              "    <tr>\n",
              "      <th>136</th>\n",
              "      <td>Newsom, Miss. Helen Monypeny</td>\n",
              "      <td>female</td>\n",
              "      <td>19.0</td>\n",
              "    </tr>\n",
              "    <tr>\n",
              "      <th>141</th>\n",
              "      <td>Nysten, Miss. Anna Sofia</td>\n",
              "      <td>female</td>\n",
              "      <td>22.0</td>\n",
              "    </tr>\n",
              "    <tr>\n",
              "      <th>147</th>\n",
              "      <td>Ford, Miss. Robina Maggie \"Ruby\"</td>\n",
              "      <td>female</td>\n",
              "      <td>9.0</td>\n",
              "    </tr>\n",
              "  </tbody>\n",
              "</table>\n",
              "</div>"
            ],
            "text/plain": [
              "                                         Name     Sex   Age\n",
              "2                      Heikkinen, Miss. Laina  female  26.0\n",
              "10            Sandstrom, Miss. Marguerite Rut  female   4.0\n",
              "11                   Bonnell, Miss. Elizabeth  female  58.0\n",
              "14       Vestrom, Miss. Hulda Amanda Adolfina  female  14.0\n",
              "22                McGowan, Miss. Anna \"Annie\"  female  15.0\n",
              "24              Palsson, Miss. Torborg Danira  female   8.0\n",
              "28              O'Dwyer, Miss. Ellen \"Nellie\"  female   NaN\n",
              "32                   Glynn, Miss. Mary Agatha  female   NaN\n",
              "38         Vander Planke, Miss. Augusta Maria  female  18.0\n",
              "39                Nicola-Yarred, Miss. Jamila  female  14.0\n",
              "43   Laroche, Miss. Simonne Marie Anne Andree  female   3.0\n",
              "44              Devaney, Miss. Margaret Delia  female  19.0\n",
              "47                  O'Driscoll, Miss. Bridget  female   NaN\n",
              "56                          Rugg, Miss. Emily  female  21.0\n",
              "58               West, Miss. Constance Mirium  female   5.0\n",
              "61                        Icard, Miss. Amelie  female  38.0\n",
              "68            Andersson, Miss. Erna Alexandra  female  17.0\n",
              "71                 Goodwin, Miss. Lillian Amy  female  16.0\n",
              "79                   Dowdell, Miss. Elizabeth  female  30.0\n",
              "82             McDermott, Miss. Brigdet Delia  female   NaN\n",
              "84                        Ilett, Miss. Bertha  female  17.0\n",
              "88                 Fortune, Miss. Mabel Helen  female  23.0\n",
              "100                   Petranec, Miss. Matilda  female  28.0\n",
              "106          Salkjelsvik, Miss. Anna Kristine  female  21.0\n",
              "109                       Moran, Miss. Bertha  female   NaN\n",
              "111                      Zabour, Miss. Hileni  female  14.5\n",
              "113                   Jussila, Miss. Katriina  female  20.0\n",
              "114                     Attalah, Miss. Malake  female  17.0\n",
              "119         Andersson, Miss. Ellis Anna Maria  female   2.0\n",
              "123                       Webber, Miss. Susan  female  32.5\n",
              "128                         Peter, Miss. Anna  female   NaN\n",
              "136              Newsom, Miss. Helen Monypeny  female  19.0\n",
              "141                  Nysten, Miss. Anna Sofia  female  22.0\n",
              "147          Ford, Miss. Robina Maggie \"Ruby\"  female   9.0"
            ]
          },
          "metadata": {
            "tags": []
          },
          "execution_count": 19
        }
      ]
    },
    {
      "cell_type": "code",
      "metadata": {
        "trusted": true,
        "id": "3x8aiwPFAUsK",
        "colab_type": "code",
        "colab": {}
      },
      "source": [
        ""
      ],
      "execution_count": 0,
      "outputs": []
    }
  ]
}